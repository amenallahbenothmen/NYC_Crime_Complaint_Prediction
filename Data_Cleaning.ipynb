{
 "cells": [
  {
   "cell_type": "code",
   "execution_count": 1,
   "metadata": {},
   "outputs": [],
   "source": [
    "import pandas as pd \n",
    "import numpy as np "
   ]
  },
  {
   "cell_type": "code",
   "execution_count": 2,
   "metadata": {},
   "outputs": [
    {
     "name": "stderr",
     "output_type": "stream",
     "text": [
      "C:\\Users\\amenm\\AppData\\Local\\Temp\\ipykernel_28976\\2830271546.py:1: DtypeWarning: Columns (18,20) have mixed types. Specify dtype option on import or set low_memory=False.\n",
      "  df=pd.read_csv(\"NYPD_Complaint_Data_Historic.csv\")\n"
     ]
    }
   ],
   "source": [
    "df=pd.read_csv(\"NYPD_Complaint_Data_Historic.csv\")"
   ]
  },
  {
   "cell_type": "code",
   "execution_count": 3,
   "metadata": {},
   "outputs": [
    {
     "data": {
      "text/html": [
       "<div>\n",
       "<style scoped>\n",
       "    .dataframe tbody tr th:only-of-type {\n",
       "        vertical-align: middle;\n",
       "    }\n",
       "\n",
       "    .dataframe tbody tr th {\n",
       "        vertical-align: top;\n",
       "    }\n",
       "\n",
       "    .dataframe thead th {\n",
       "        text-align: right;\n",
       "    }\n",
       "</style>\n",
       "<table border=\"1\" class=\"dataframe\">\n",
       "  <thead>\n",
       "    <tr style=\"text-align: right;\">\n",
       "      <th></th>\n",
       "      <th>CMPLNT_NUM</th>\n",
       "      <th>CMPLNT_FR_DT</th>\n",
       "      <th>CMPLNT_FR_TM</th>\n",
       "      <th>CMPLNT_TO_DT</th>\n",
       "      <th>CMPLNT_TO_TM</th>\n",
       "      <th>ADDR_PCT_CD</th>\n",
       "      <th>RPT_DT</th>\n",
       "      <th>KY_CD</th>\n",
       "      <th>OFNS_DESC</th>\n",
       "      <th>PD_CD</th>\n",
       "      <th>...</th>\n",
       "      <th>SUSP_SEX</th>\n",
       "      <th>TRANSIT_DISTRICT</th>\n",
       "      <th>Latitude</th>\n",
       "      <th>Longitude</th>\n",
       "      <th>Lat_Lon</th>\n",
       "      <th>PATROL_BORO</th>\n",
       "      <th>STATION_NAME</th>\n",
       "      <th>VIC_AGE_GROUP</th>\n",
       "      <th>VIC_RACE</th>\n",
       "      <th>VIC_SEX</th>\n",
       "    </tr>\n",
       "  </thead>\n",
       "  <tbody>\n",
       "    <tr>\n",
       "      <th>0</th>\n",
       "      <td>700381962</td>\n",
       "      <td>05/28/2015</td>\n",
       "      <td>15:00:00</td>\n",
       "      <td>NaN</td>\n",
       "      <td>NaN</td>\n",
       "      <td>46.0</td>\n",
       "      <td>06/01/2015</td>\n",
       "      <td>578</td>\n",
       "      <td>HARRASSMENT 2</td>\n",
       "      <td>638.0</td>\n",
       "      <td>...</td>\n",
       "      <td>M</td>\n",
       "      <td>NaN</td>\n",
       "      <td>40.845868</td>\n",
       "      <td>-73.915888</td>\n",
       "      <td>(40.84586773, -73.915888033)</td>\n",
       "      <td>PATROL BORO BRONX</td>\n",
       "      <td>NaN</td>\n",
       "      <td>25-44</td>\n",
       "      <td>WHITE HISPANIC</td>\n",
       "      <td>F</td>\n",
       "    </tr>\n",
       "    <tr>\n",
       "      <th>1</th>\n",
       "      <td>642234217</td>\n",
       "      <td>10/28/2013</td>\n",
       "      <td>13:50:00</td>\n",
       "      <td>10/28/2013</td>\n",
       "      <td>13:50:00</td>\n",
       "      <td>120.0</td>\n",
       "      <td>10/28/2013</td>\n",
       "      <td>351</td>\n",
       "      <td>CRIMINAL MISCHIEF &amp; RELATED OF</td>\n",
       "      <td>259.0</td>\n",
       "      <td>...</td>\n",
       "      <td>NaN</td>\n",
       "      <td>NaN</td>\n",
       "      <td>40.627061</td>\n",
       "      <td>-74.077149</td>\n",
       "      <td>(40.627060894, -74.077149232)</td>\n",
       "      <td>PATROL BORO STATEN ISLAND</td>\n",
       "      <td>NaN</td>\n",
       "      <td>45-64</td>\n",
       "      <td>WHITE</td>\n",
       "      <td>M</td>\n",
       "    </tr>\n",
       "    <tr>\n",
       "      <th>2</th>\n",
       "      <td>242465164</td>\n",
       "      <td>05/09/2012</td>\n",
       "      <td>20:50:00</td>\n",
       "      <td>05/09/2012</td>\n",
       "      <td>21:00:00</td>\n",
       "      <td>24.0</td>\n",
       "      <td>05/09/2012</td>\n",
       "      <td>236</td>\n",
       "      <td>DANGEROUS WEAPONS</td>\n",
       "      <td>782.0</td>\n",
       "      <td>...</td>\n",
       "      <td>NaN</td>\n",
       "      <td>NaN</td>\n",
       "      <td>40.800966</td>\n",
       "      <td>-73.969047</td>\n",
       "      <td>(40.800965968, -73.969047272)</td>\n",
       "      <td>PATROL BORO MAN NORTH</td>\n",
       "      <td>NaN</td>\n",
       "      <td>NaN</td>\n",
       "      <td>UNKNOWN</td>\n",
       "      <td>E</td>\n",
       "    </tr>\n",
       "    <tr>\n",
       "      <th>3</th>\n",
       "      <td>927207428</td>\n",
       "      <td>01/03/2014</td>\n",
       "      <td>13:30:00</td>\n",
       "      <td>01/03/2014</td>\n",
       "      <td>13:35:00</td>\n",
       "      <td>108.0</td>\n",
       "      <td>01/03/2014</td>\n",
       "      <td>109</td>\n",
       "      <td>GRAND LARCENY</td>\n",
       "      <td>409.0</td>\n",
       "      <td>...</td>\n",
       "      <td>M</td>\n",
       "      <td>NaN</td>\n",
       "      <td>40.745242</td>\n",
       "      <td>-73.894253</td>\n",
       "      <td>(40.745241809, -73.894253382)</td>\n",
       "      <td>PATROL BORO QUEENS NORTH</td>\n",
       "      <td>NaN</td>\n",
       "      <td>45-64</td>\n",
       "      <td>ASIAN / PACIFIC ISLANDER</td>\n",
       "      <td>M</td>\n",
       "    </tr>\n",
       "    <tr>\n",
       "      <th>4</th>\n",
       "      <td>492142357</td>\n",
       "      <td>04/13/2016</td>\n",
       "      <td>00:00:00</td>\n",
       "      <td>NaN</td>\n",
       "      <td>NaN</td>\n",
       "      <td>40.0</td>\n",
       "      <td>04/13/2016</td>\n",
       "      <td>351</td>\n",
       "      <td>CRIMINAL MISCHIEF &amp; RELATED OF</td>\n",
       "      <td>258.0</td>\n",
       "      <td>...</td>\n",
       "      <td>NaN</td>\n",
       "      <td>NaN</td>\n",
       "      <td>40.810352</td>\n",
       "      <td>-73.924942</td>\n",
       "      <td>(40.810351863, -73.924942326)</td>\n",
       "      <td>PATROL BORO BRONX</td>\n",
       "      <td>NaN</td>\n",
       "      <td>UNKNOWN</td>\n",
       "      <td>UNKNOWN</td>\n",
       "      <td>E</td>\n",
       "    </tr>\n",
       "  </tbody>\n",
       "</table>\n",
       "<p>5 rows × 35 columns</p>\n",
       "</div>"
      ],
      "text/plain": [
       "   CMPLNT_NUM CMPLNT_FR_DT CMPLNT_FR_TM CMPLNT_TO_DT CMPLNT_TO_TM  \\\n",
       "0   700381962   05/28/2015     15:00:00          NaN          NaN   \n",
       "1   642234217   10/28/2013     13:50:00   10/28/2013     13:50:00   \n",
       "2   242465164   05/09/2012     20:50:00   05/09/2012     21:00:00   \n",
       "3   927207428   01/03/2014     13:30:00   01/03/2014     13:35:00   \n",
       "4   492142357   04/13/2016     00:00:00          NaN          NaN   \n",
       "\n",
       "   ADDR_PCT_CD      RPT_DT  KY_CD                       OFNS_DESC  PD_CD  ...  \\\n",
       "0         46.0  06/01/2015    578                   HARRASSMENT 2  638.0  ...   \n",
       "1        120.0  10/28/2013    351  CRIMINAL MISCHIEF & RELATED OF  259.0  ...   \n",
       "2         24.0  05/09/2012    236               DANGEROUS WEAPONS  782.0  ...   \n",
       "3        108.0  01/03/2014    109                   GRAND LARCENY  409.0  ...   \n",
       "4         40.0  04/13/2016    351  CRIMINAL MISCHIEF & RELATED OF  258.0  ...   \n",
       "\n",
       "  SUSP_SEX TRANSIT_DISTRICT   Latitude  Longitude  \\\n",
       "0        M              NaN  40.845868 -73.915888   \n",
       "1      NaN              NaN  40.627061 -74.077149   \n",
       "2      NaN              NaN  40.800966 -73.969047   \n",
       "3        M              NaN  40.745242 -73.894253   \n",
       "4      NaN              NaN  40.810352 -73.924942   \n",
       "\n",
       "                         Lat_Lon                PATROL_BORO STATION_NAME  \\\n",
       "0   (40.84586773, -73.915888033)          PATROL BORO BRONX          NaN   \n",
       "1  (40.627060894, -74.077149232)  PATROL BORO STATEN ISLAND          NaN   \n",
       "2  (40.800965968, -73.969047272)      PATROL BORO MAN NORTH          NaN   \n",
       "3  (40.745241809, -73.894253382)   PATROL BORO QUEENS NORTH          NaN   \n",
       "4  (40.810351863, -73.924942326)          PATROL BORO BRONX          NaN   \n",
       "\n",
       "   VIC_AGE_GROUP                  VIC_RACE VIC_SEX  \n",
       "0          25-44            WHITE HISPANIC       F  \n",
       "1          45-64                     WHITE       M  \n",
       "2            NaN                   UNKNOWN       E  \n",
       "3          45-64  ASIAN / PACIFIC ISLANDER       M  \n",
       "4        UNKNOWN                   UNKNOWN       E  \n",
       "\n",
       "[5 rows x 35 columns]"
      ]
     },
     "execution_count": 3,
     "metadata": {},
     "output_type": "execute_result"
    }
   ],
   "source": [
    "df.head()"
   ]
  },
  {
   "cell_type": "code",
   "execution_count": 4,
   "metadata": {},
   "outputs": [
    {
     "data": {
      "text/html": [
       "<div>\n",
       "<style scoped>\n",
       "    .dataframe tbody tr th:only-of-type {\n",
       "        vertical-align: middle;\n",
       "    }\n",
       "\n",
       "    .dataframe tbody tr th {\n",
       "        vertical-align: top;\n",
       "    }\n",
       "\n",
       "    .dataframe thead th {\n",
       "        text-align: right;\n",
       "    }\n",
       "</style>\n",
       "<table border=\"1\" class=\"dataframe\">\n",
       "  <thead>\n",
       "    <tr style=\"text-align: right;\">\n",
       "      <th></th>\n",
       "      <th>CMPLNT_NUM</th>\n",
       "      <th>ADDR_PCT_CD</th>\n",
       "      <th>KY_CD</th>\n",
       "      <th>PD_CD</th>\n",
       "      <th>JURISDICTION_CODE</th>\n",
       "      <th>X_COORD_CD</th>\n",
       "      <th>Y_COORD_CD</th>\n",
       "      <th>TRANSIT_DISTRICT</th>\n",
       "      <th>Latitude</th>\n",
       "      <th>Longitude</th>\n",
       "    </tr>\n",
       "  </thead>\n",
       "  <tbody>\n",
       "    <tr>\n",
       "      <th>count</th>\n",
       "      <td>6.983207e+06</td>\n",
       "      <td>6.981041e+06</td>\n",
       "      <td>6.983207e+06</td>\n",
       "      <td>6.977342e+06</td>\n",
       "      <td>6.977342e+06</td>\n",
       "      <td>6.959143e+06</td>\n",
       "      <td>6.959143e+06</td>\n",
       "      <td>157084.000000</td>\n",
       "      <td>6.959143e+06</td>\n",
       "      <td>6.959143e+06</td>\n",
       "    </tr>\n",
       "    <tr>\n",
       "      <th>mean</th>\n",
       "      <td>5.500768e+08</td>\n",
       "      <td>6.327224e+01</td>\n",
       "      <td>2.957909e+02</td>\n",
       "      <td>4.148457e+02</td>\n",
       "      <td>7.304343e-01</td>\n",
       "      <td>1.004796e+06</td>\n",
       "      <td>2.070544e+05</td>\n",
       "      <td>13.598400</td>\n",
       "      <td>4.073495e+01</td>\n",
       "      <td>-7.392583e+01</td>\n",
       "    </tr>\n",
       "    <tr>\n",
       "      <th>std</th>\n",
       "      <td>2.597838e+08</td>\n",
       "      <td>3.451961e+01</td>\n",
       "      <td>1.499370e+02</td>\n",
       "      <td>2.180586e+02</td>\n",
       "      <td>6.752324e+00</td>\n",
       "      <td>2.174732e+04</td>\n",
       "      <td>3.153994e+04</td>\n",
       "      <td>12.471429</td>\n",
       "      <td>8.647664e-02</td>\n",
       "      <td>7.842862e-02</td>\n",
       "    </tr>\n",
       "    <tr>\n",
       "      <th>min</th>\n",
       "      <td>1.000001e+08</td>\n",
       "      <td>-9.900000e+01</td>\n",
       "      <td>1.010000e+02</td>\n",
       "      <td>1.000000e+02</td>\n",
       "      <td>0.000000e+00</td>\n",
       "      <td>1.110000e+02</td>\n",
       "      <td>1.110000e+02</td>\n",
       "      <td>1.000000</td>\n",
       "      <td>4.011271e+01</td>\n",
       "      <td>-7.751921e+01</td>\n",
       "    </tr>\n",
       "    <tr>\n",
       "      <th>25%</th>\n",
       "      <td>3.252107e+08</td>\n",
       "      <td>4.000000e+01</td>\n",
       "      <td>1.170000e+02</td>\n",
       "      <td>2.540000e+02</td>\n",
       "      <td>0.000000e+00</td>\n",
       "      <td>9.916830e+05</td>\n",
       "      <td>1.843520e+05</td>\n",
       "      <td>3.000000</td>\n",
       "      <td>4.067261e+01</td>\n",
       "      <td>-7.397323e+01</td>\n",
       "    </tr>\n",
       "    <tr>\n",
       "      <th>50%</th>\n",
       "      <td>5.500624e+08</td>\n",
       "      <td>6.300000e+01</td>\n",
       "      <td>3.410000e+02</td>\n",
       "      <td>3.860000e+02</td>\n",
       "      <td>0.000000e+00</td>\n",
       "      <td>1.004370e+06</td>\n",
       "      <td>2.059660e+05</td>\n",
       "      <td>11.000000</td>\n",
       "      <td>4.073196e+01</td>\n",
       "      <td>-7.392733e+01</td>\n",
       "    </tr>\n",
       "    <tr>\n",
       "      <th>75%</th>\n",
       "      <td>7.750561e+08</td>\n",
       "      <td>9.400000e+01</td>\n",
       "      <td>3.510000e+02</td>\n",
       "      <td>6.370000e+02</td>\n",
       "      <td>0.000000e+00</td>\n",
       "      <td>1.016586e+06</td>\n",
       "      <td>2.351580e+05</td>\n",
       "      <td>30.000000</td>\n",
       "      <td>4.081212e+01</td>\n",
       "      <td>-7.388325e+01</td>\n",
       "    </tr>\n",
       "    <tr>\n",
       "      <th>max</th>\n",
       "      <td>9.999999e+08</td>\n",
       "      <td>1.230000e+02</td>\n",
       "      <td>8.810000e+02</td>\n",
       "      <td>9.750000e+02</td>\n",
       "      <td>9.700000e+01</td>\n",
       "      <td>1.067298e+06</td>\n",
       "      <td>7.250292e+06</td>\n",
       "      <td>34.000000</td>\n",
       "      <td>5.965727e+01</td>\n",
       "      <td>-7.368479e+01</td>\n",
       "    </tr>\n",
       "  </tbody>\n",
       "</table>\n",
       "</div>"
      ],
      "text/plain": [
       "         CMPLNT_NUM   ADDR_PCT_CD         KY_CD         PD_CD  \\\n",
       "count  6.983207e+06  6.981041e+06  6.983207e+06  6.977342e+06   \n",
       "mean   5.500768e+08  6.327224e+01  2.957909e+02  4.148457e+02   \n",
       "std    2.597838e+08  3.451961e+01  1.499370e+02  2.180586e+02   \n",
       "min    1.000001e+08 -9.900000e+01  1.010000e+02  1.000000e+02   \n",
       "25%    3.252107e+08  4.000000e+01  1.170000e+02  2.540000e+02   \n",
       "50%    5.500624e+08  6.300000e+01  3.410000e+02  3.860000e+02   \n",
       "75%    7.750561e+08  9.400000e+01  3.510000e+02  6.370000e+02   \n",
       "max    9.999999e+08  1.230000e+02  8.810000e+02  9.750000e+02   \n",
       "\n",
       "       JURISDICTION_CODE    X_COORD_CD    Y_COORD_CD  TRANSIT_DISTRICT  \\\n",
       "count       6.977342e+06  6.959143e+06  6.959143e+06     157084.000000   \n",
       "mean        7.304343e-01  1.004796e+06  2.070544e+05         13.598400   \n",
       "std         6.752324e+00  2.174732e+04  3.153994e+04         12.471429   \n",
       "min         0.000000e+00  1.110000e+02  1.110000e+02          1.000000   \n",
       "25%         0.000000e+00  9.916830e+05  1.843520e+05          3.000000   \n",
       "50%         0.000000e+00  1.004370e+06  2.059660e+05         11.000000   \n",
       "75%         0.000000e+00  1.016586e+06  2.351580e+05         30.000000   \n",
       "max         9.700000e+01  1.067298e+06  7.250292e+06         34.000000   \n",
       "\n",
       "           Latitude     Longitude  \n",
       "count  6.959143e+06  6.959143e+06  \n",
       "mean   4.073495e+01 -7.392583e+01  \n",
       "std    8.647664e-02  7.842862e-02  \n",
       "min    4.011271e+01 -7.751921e+01  \n",
       "25%    4.067261e+01 -7.397323e+01  \n",
       "50%    4.073196e+01 -7.392733e+01  \n",
       "75%    4.081212e+01 -7.388325e+01  \n",
       "max    5.965727e+01 -7.368479e+01  "
      ]
     },
     "execution_count": 4,
     "metadata": {},
     "output_type": "execute_result"
    }
   ],
   "source": [
    "df.describe()"
   ]
  },
  {
   "cell_type": "code",
   "execution_count": 5,
   "metadata": {},
   "outputs": [
    {
     "name": "stdout",
     "output_type": "stream",
     "text": [
      "<class 'pandas.core.frame.DataFrame'>\n",
      "RangeIndex: 6983207 entries, 0 to 6983206\n",
      "Data columns (total 35 columns):\n",
      " #   Column             Dtype  \n",
      "---  ------             -----  \n",
      " 0   CMPLNT_NUM         int64  \n",
      " 1   CMPLNT_FR_DT       object \n",
      " 2   CMPLNT_FR_TM       object \n",
      " 3   CMPLNT_TO_DT       object \n",
      " 4   CMPLNT_TO_TM       object \n",
      " 5   ADDR_PCT_CD        float64\n",
      " 6   RPT_DT             object \n",
      " 7   KY_CD              int64  \n",
      " 8   OFNS_DESC          object \n",
      " 9   PD_CD              float64\n",
      " 10  PD_DESC            object \n",
      " 11  CRM_ATPT_CPTD_CD   object \n",
      " 12  LAW_CAT_CD         object \n",
      " 13  BORO_NM            object \n",
      " 14  LOC_OF_OCCUR_DESC  object \n",
      " 15  PREM_TYP_DESC      object \n",
      " 16  JURIS_DESC         object \n",
      " 17  JURISDICTION_CODE  float64\n",
      " 18  PARKS_NM           object \n",
      " 19  HADEVELOPT         object \n",
      " 20  HOUSING_PSA        object \n",
      " 21  X_COORD_CD         float64\n",
      " 22  Y_COORD_CD         float64\n",
      " 23  SUSP_AGE_GROUP     object \n",
      " 24  SUSP_RACE          object \n",
      " 25  SUSP_SEX           object \n",
      " 26  TRANSIT_DISTRICT   float64\n",
      " 27  Latitude           float64\n",
      " 28  Longitude          float64\n",
      " 29  Lat_Lon            object \n",
      " 30  PATROL_BORO        object \n",
      " 31  STATION_NAME       object \n",
      " 32  VIC_AGE_GROUP      object \n",
      " 33  VIC_RACE           object \n",
      " 34  VIC_SEX            object \n",
      "dtypes: float64(8), int64(2), object(25)\n",
      "memory usage: 1.8+ GB\n"
     ]
    }
   ],
   "source": [
    "df.info()"
   ]
  },
  {
   "cell_type": "code",
   "execution_count": 6,
   "metadata": {},
   "outputs": [
    {
     "data": {
      "text/plain": [
       "Index(['CMPLNT_NUM', 'CMPLNT_FR_DT', 'CMPLNT_FR_TM', 'CMPLNT_TO_DT',\n",
       "       'CMPLNT_TO_TM', 'ADDR_PCT_CD', 'RPT_DT', 'KY_CD', 'OFNS_DESC', 'PD_CD',\n",
       "       'PD_DESC', 'CRM_ATPT_CPTD_CD', 'LAW_CAT_CD', 'BORO_NM',\n",
       "       'LOC_OF_OCCUR_DESC', 'PREM_TYP_DESC', 'JURIS_DESC', 'JURISDICTION_CODE',\n",
       "       'PARKS_NM', 'HADEVELOPT', 'HOUSING_PSA', 'X_COORD_CD', 'Y_COORD_CD',\n",
       "       'SUSP_AGE_GROUP', 'SUSP_RACE', 'SUSP_SEX', 'TRANSIT_DISTRICT',\n",
       "       'Latitude', 'Longitude', 'Lat_Lon', 'PATROL_BORO', 'STATION_NAME',\n",
       "       'VIC_AGE_GROUP', 'VIC_RACE', 'VIC_SEX'],\n",
       "      dtype='object')"
      ]
     },
     "execution_count": 6,
     "metadata": {},
     "output_type": "execute_result"
    }
   ],
   "source": [
    "df.columns"
   ]
  },
  {
   "cell_type": "markdown",
   "metadata": {},
   "source": [
    "Renaming the columns"
   ]
  },
  {
   "cell_type": "code",
   "execution_count": 17,
   "metadata": {},
   "outputs": [],
   "source": [
    "rename_columns = {\n",
    "    \"CMPLNT_NUM\": \"Complaint_ID\",\n",
    "    \"CMPLNT_FR_DT\": \"Start_Date\",\n",
    "    \"CMPLNT_FR_TM\": \"Start_Time\",\n",
    "    \"CMPLNT_TO_DT\": \"End_Date\",\n",
    "    \"CMPLNT_TO_TM\": \"End_Time\",\n",
    "    \"RPT_DT\": \"Report_Date\",\n",
    "    \"KY_CD\": \"Offense_Code\",\n",
    "    \"OFNS_DESC\": \"Offense_Description\",\n",
    "    \"PD_CD\": \"Precinct_Code\",\n",
    "    \"PD_DESC\": \"Precinct_Description\",\n",
    "    \"CRM_ATPT_CPTD_CD\": \"Crime_Status\",\n",
    "    \"LAW_CAT_CD\": \"Offense_Level\",\n",
    "    \"JURIS_DESC\": \"Jurisdiction\",\n",
    "    \"BORO_NM\": \"Borough\",\n",
    "    \"ADDR_PCT_CD\": \"Precinct\",\n",
    "    \"LOC_OF_OCCUR_DESC\": \"Location_Type\",\n",
    "    \"PREM_TYP_DESC\": \"Premises_Type\",\n",
    "    \"PARKS_NM\": \"Park_Name\",\n",
    "    \"HADEVELOPT\": \"Housing_Development\",\n",
    "    \"HOUSING_PSA\": \"PSA_Code\",\n",
    "    \"X_COORD_CD\": \"X_Coordinate\",\n",
    "    \"Y_COORD_CD\": \"Y_Coordinate\",\n",
    "    \"Latitude\": \"Lat\",\n",
    "    \"Longitude\": \"Lon\",\n",
    "    \"Lat_Lon\": \"Coordinates\",\n",
    "    \"PATROL_BORO\": \"Patrol_Borough\",\n",
    "    \"STATION_NAME\": \"Station_Name\",\n",
    "    \"VIC_AGE_GROUP\": \"Victim_Age\",\n",
    "    \"VIC_RACE\": \"Victim_Race\",\n",
    "    \"VIC_SEX\": \"Victim_Gender\",\n",
    "    \"SUSP_AGE_GROUP\": \"Suspect_Age\",\n",
    "    \"SUSP_RACE\": \"Suspect_Race\",\n",
    "    \"SUSP_SEX\": \"Suspect_Gender\",\n",
    "    \"TRANSIT_DISTRICT\": \"Transit_District\"\n",
    "}\n",
    "\n",
    "\n",
    "df.rename(columns=rename_columns, inplace=True)"
   ]
  },
  {
   "cell_type": "code",
   "execution_count": 18,
   "metadata": {},
   "outputs": [
    {
     "data": {
      "text/plain": [
       "Index(['Complaint_ID', 'Start_Date', 'Start_Time', 'End_Date', 'End_Time',\n",
       "       'Precinct', 'Report_Date', 'Offense_Code', 'Offense_Description',\n",
       "       'Precinct_Code', 'Precinct_Description', 'Crime_Status',\n",
       "       'Offense_Level', 'Borough', 'Location_Type', 'Premises_Type',\n",
       "       'Jurisdiction', 'JURISDICTION_CODE', 'Park_Name', 'Housing_Development',\n",
       "       'PSA_Code', 'X_Coordinate', 'Y_Coordinate', 'Suspect_Age',\n",
       "       'Suspect_Race', 'Suspect_Gender', 'Transit_District', 'Lat', 'Lon',\n",
       "       'Coordinates', 'Patrol_Borough', 'Station_Name', 'Victim_Age',\n",
       "       'Victim_Race', 'Victim_Gender'],\n",
       "      dtype='object')"
      ]
     },
     "execution_count": 18,
     "metadata": {},
     "output_type": "execute_result"
    }
   ],
   "source": [
    "df.columns"
   ]
  },
  {
   "cell_type": "code",
   "execution_count": 19,
   "metadata": {},
   "outputs": [
    {
     "name": "stdout",
     "output_type": "stream",
     "text": [
      "Complaint_ID have  0.0  % missing values\n",
      "Start_Date have  0.009379644624597266  % missing values\n",
      "Start_Time have  0.0006873632701994943  % missing values\n",
      "End_Date have  23.89125798504899  % missing values\n",
      "End_Time have  23.826144635265717  % missing values\n",
      "Precinct have  0.03101726756775218  % missing values\n",
      "Report_Date have  0.0  % missing values\n",
      "Offense_Code have  0.0  % missing values\n",
      "Offense_Description have  0.26957528253136415  % missing values\n",
      "Precinct_Code have  0.08398719957750071  % missing values\n",
      "Precinct_Description have  0.08398719957750071  % missing values\n",
      "Crime_Status have  0.00010024047690409292  % missing values\n",
      "Offense_Level have  0.0  % missing values\n",
      "Borough have  0.1560028221990269  % missing values\n",
      "Location_Type have  21.19358627060604  % missing values\n",
      "Premises_Type have  0.5689649469076314  % missing values\n",
      "Jurisdiction have  0.0  % missing values\n",
      "JURISDICTION_CODE have  0.08398719957750071  % missing values\n",
      "Park_Name have  99.6413109335009  % missing values\n",
      "Housing_Development have  95.04485546540437  % missing values\n",
      "PSA_Code have  92.31142654084292  % missing values\n",
      "X_Coordinate have  0.3445981194600131  % missing values\n",
      "Y_Coordinate have  0.3445981194600131  % missing values\n",
      "Suspect_Age have  67.41276608297592  % missing values\n",
      "Suspect_Race have  47.81516572543246  % missing values\n",
      "Suspect_Gender have  49.72423128800278  % missing values\n",
      "Transit_District have  97.75054641799964  % missing values\n",
      "Lat have  0.3445981194600131  % missing values\n",
      "Lon have  0.3445981194600131  % missing values\n",
      "Coordinates have  0.3445981194600131  % missing values\n",
      "Patrol_Borough have  0.09053147071252506  % missing values\n",
      "Station_Name have  97.75054641799964  % missing values\n",
      "Victim_Age have  23.46262970580709  % missing values\n",
      "Victim_Race have  0.0044105809837800885  % missing values\n",
      "Victim_Gender have  0.004396260915650933  % missing values\n"
     ]
    }
   ],
   "source": [
    "for column in df.columns:\n",
    "    print(column,'have ',(df[column].isna().sum()*100/len(df)),' % missing values')\n",
    "    "
   ]
  },
  {
   "cell_type": "markdown",
   "metadata": {},
   "source": [
    "## Part(1)"
   ]
  },
  {
   "cell_type": "markdown",
   "metadata": {},
   "source": [
    "PSA(POLICE SeRVICE AREA) near New York City Housing Authority and housing is a part in psa "
   ]
  },
  {
   "cell_type": "code",
   "execution_count": 27,
   "metadata": {},
   "outputs": [],
   "source": [
    "df['in_psa'] = df['PSA_Code'].notna().astype(int)"
   ]
  },
  {
   "cell_type": "code",
   "execution_count": 28,
   "metadata": {},
   "outputs": [],
   "source": [
    "df['in_psa_housing'] = df.apply(\n",
    "    lambda row: 1 if pd.notna(row['PSA_Code']) and pd.notna(row['Housing_Development']) else 0,\n",
    "    axis=1\n",
    ")"
   ]
  },
  {
   "cell_type": "code",
   "execution_count": 35,
   "metadata": {},
   "outputs": [],
   "source": [
    "df['in_transport'] = df.apply(\n",
    "    lambda row: 1 if pd.notna(row['Transit_District']) and pd.notna(row['Station_Name']) else 0,\n",
    "    axis=1\n",
    ")\n"
   ]
  },
  {
   "cell_type": "code",
   "execution_count": 30,
   "metadata": {},
   "outputs": [],
   "source": [
    "df['in_park'] = df['Park_Name'].notna().astype(int)"
   ]
  },
  {
   "cell_type": "code",
   "execution_count": 72,
   "metadata": {},
   "outputs": [],
   "source": [
    "df.drop(columns='Park_Name',inplace=True)"
   ]
  },
  {
   "cell_type": "code",
   "execution_count": 40,
   "metadata": {},
   "outputs": [],
   "source": [
    "df.drop(columns=[\"PSA_Code\",\"Housing_Development\",\"Transit_District\",\"Station_Name\"],inplace=True)"
   ]
  },
  {
   "cell_type": "markdown",
   "metadata": {},
   "source": [
    "we must elimninate the crimes that we dont have the location and we drop off the varibale indicating the same location "
   ]
  },
  {
   "cell_type": "code",
   "execution_count": 41,
   "metadata": {},
   "outputs": [
    {
     "data": {
      "text/plain": [
       "Index(['Complaint_ID', 'Start_Date', 'Start_Time', 'End_Date', 'End_Time',\n",
       "       'Precinct', 'Report_Date', 'Offense_Code', 'Offense_Description',\n",
       "       'Precinct_Code', 'Precinct_Description', 'Crime_Status',\n",
       "       'Offense_Level', 'Borough', 'Location_Type', 'Premises_Type',\n",
       "       'Jurisdiction', 'JURISDICTION_CODE', 'Park_Name', 'X_Coordinate',\n",
       "       'Y_Coordinate', 'Suspect_Age', 'Suspect_Race', 'Suspect_Gender', 'Lat',\n",
       "       'Lon', 'Coordinates', 'Patrol_Borough', 'Victim_Age', 'Victim_Race',\n",
       "       'Victim_Gender', 'in_psa', 'in_psa_housing', 'in_park', 'in_transport'],\n",
       "      dtype='object')"
      ]
     },
     "execution_count": 41,
     "metadata": {},
     "output_type": "execute_result"
    }
   ],
   "source": [
    "df.columns"
   ]
  },
  {
   "cell_type": "code",
   "execution_count": 42,
   "metadata": {},
   "outputs": [],
   "source": [
    "df.drop(columns=['X_Coordinate','Y_Coordinate',\"Coordinates\"],inplace=True)"
   ]
  },
  {
   "cell_type": "code",
   "execution_count": 43,
   "metadata": {},
   "outputs": [
    {
     "data": {
      "text/plain": [
       "Index(['Complaint_ID', 'Start_Date', 'Start_Time', 'End_Date', 'End_Time',\n",
       "       'Precinct', 'Report_Date', 'Offense_Code', 'Offense_Description',\n",
       "       'Precinct_Code', 'Precinct_Description', 'Crime_Status',\n",
       "       'Offense_Level', 'Borough', 'Location_Type', 'Premises_Type',\n",
       "       'Jurisdiction', 'JURISDICTION_CODE', 'Park_Name', 'Suspect_Age',\n",
       "       'Suspect_Race', 'Suspect_Gender', 'Lat', 'Lon', 'Patrol_Borough',\n",
       "       'Victim_Age', 'Victim_Race', 'Victim_Gender', 'in_psa',\n",
       "       'in_psa_housing', 'in_park', 'in_transport'],\n",
       "      dtype='object')"
      ]
     },
     "execution_count": 43,
     "metadata": {},
     "output_type": "execute_result"
    }
   ],
   "source": [
    "df.columns"
   ]
  },
  {
   "cell_type": "code",
   "execution_count": 44,
   "metadata": {},
   "outputs": [],
   "source": [
    "df = df[df['Lat'].notna()]\n",
    "df = df[df['Lon'].notna()]"
   ]
  },
  {
   "cell_type": "code",
   "execution_count": 45,
   "metadata": {},
   "outputs": [
    {
     "data": {
      "text/html": [
       "<div>\n",
       "<style scoped>\n",
       "    .dataframe tbody tr th:only-of-type {\n",
       "        vertical-align: middle;\n",
       "    }\n",
       "\n",
       "    .dataframe tbody tr th {\n",
       "        vertical-align: top;\n",
       "    }\n",
       "\n",
       "    .dataframe thead th {\n",
       "        text-align: right;\n",
       "    }\n",
       "</style>\n",
       "<table border=\"1\" class=\"dataframe\">\n",
       "  <thead>\n",
       "    <tr style=\"text-align: right;\">\n",
       "      <th></th>\n",
       "      <th>Complaint_ID</th>\n",
       "      <th>Start_Date</th>\n",
       "      <th>Start_Time</th>\n",
       "      <th>End_Date</th>\n",
       "      <th>End_Time</th>\n",
       "      <th>Precinct</th>\n",
       "      <th>Report_Date</th>\n",
       "      <th>Offense_Code</th>\n",
       "      <th>Offense_Description</th>\n",
       "      <th>Precinct_Code</th>\n",
       "      <th>...</th>\n",
       "      <th>Lat</th>\n",
       "      <th>Lon</th>\n",
       "      <th>Patrol_Borough</th>\n",
       "      <th>Victim_Age</th>\n",
       "      <th>Victim_Race</th>\n",
       "      <th>Victim_Gender</th>\n",
       "      <th>in_psa</th>\n",
       "      <th>in_psa_housing</th>\n",
       "      <th>in_park</th>\n",
       "      <th>in_transport</th>\n",
       "    </tr>\n",
       "  </thead>\n",
       "  <tbody>\n",
       "    <tr>\n",
       "      <th>0</th>\n",
       "      <td>700381962</td>\n",
       "      <td>05/28/2015</td>\n",
       "      <td>15:00:00</td>\n",
       "      <td>NaN</td>\n",
       "      <td>NaN</td>\n",
       "      <td>46.0</td>\n",
       "      <td>06/01/2015</td>\n",
       "      <td>578</td>\n",
       "      <td>HARRASSMENT 2</td>\n",
       "      <td>638.0</td>\n",
       "      <td>...</td>\n",
       "      <td>40.845868</td>\n",
       "      <td>-73.915888</td>\n",
       "      <td>PATROL BORO BRONX</td>\n",
       "      <td>25-44</td>\n",
       "      <td>WHITE HISPANIC</td>\n",
       "      <td>F</td>\n",
       "      <td>0</td>\n",
       "      <td>0</td>\n",
       "      <td>0</td>\n",
       "      <td>0</td>\n",
       "    </tr>\n",
       "    <tr>\n",
       "      <th>1</th>\n",
       "      <td>642234217</td>\n",
       "      <td>10/28/2013</td>\n",
       "      <td>13:50:00</td>\n",
       "      <td>10/28/2013</td>\n",
       "      <td>13:50:00</td>\n",
       "      <td>120.0</td>\n",
       "      <td>10/28/2013</td>\n",
       "      <td>351</td>\n",
       "      <td>CRIMINAL MISCHIEF &amp; RELATED OF</td>\n",
       "      <td>259.0</td>\n",
       "      <td>...</td>\n",
       "      <td>40.627061</td>\n",
       "      <td>-74.077149</td>\n",
       "      <td>PATROL BORO STATEN ISLAND</td>\n",
       "      <td>45-64</td>\n",
       "      <td>WHITE</td>\n",
       "      <td>M</td>\n",
       "      <td>0</td>\n",
       "      <td>0</td>\n",
       "      <td>0</td>\n",
       "      <td>0</td>\n",
       "    </tr>\n",
       "    <tr>\n",
       "      <th>2</th>\n",
       "      <td>242465164</td>\n",
       "      <td>05/09/2012</td>\n",
       "      <td>20:50:00</td>\n",
       "      <td>05/09/2012</td>\n",
       "      <td>21:00:00</td>\n",
       "      <td>24.0</td>\n",
       "      <td>05/09/2012</td>\n",
       "      <td>236</td>\n",
       "      <td>DANGEROUS WEAPONS</td>\n",
       "      <td>782.0</td>\n",
       "      <td>...</td>\n",
       "      <td>40.800966</td>\n",
       "      <td>-73.969047</td>\n",
       "      <td>PATROL BORO MAN NORTH</td>\n",
       "      <td>NaN</td>\n",
       "      <td>UNKNOWN</td>\n",
       "      <td>E</td>\n",
       "      <td>0</td>\n",
       "      <td>0</td>\n",
       "      <td>0</td>\n",
       "      <td>0</td>\n",
       "    </tr>\n",
       "    <tr>\n",
       "      <th>3</th>\n",
       "      <td>927207428</td>\n",
       "      <td>01/03/2014</td>\n",
       "      <td>13:30:00</td>\n",
       "      <td>01/03/2014</td>\n",
       "      <td>13:35:00</td>\n",
       "      <td>108.0</td>\n",
       "      <td>01/03/2014</td>\n",
       "      <td>109</td>\n",
       "      <td>GRAND LARCENY</td>\n",
       "      <td>409.0</td>\n",
       "      <td>...</td>\n",
       "      <td>40.745242</td>\n",
       "      <td>-73.894253</td>\n",
       "      <td>PATROL BORO QUEENS NORTH</td>\n",
       "      <td>45-64</td>\n",
       "      <td>ASIAN / PACIFIC ISLANDER</td>\n",
       "      <td>M</td>\n",
       "      <td>0</td>\n",
       "      <td>0</td>\n",
       "      <td>0</td>\n",
       "      <td>0</td>\n",
       "    </tr>\n",
       "    <tr>\n",
       "      <th>4</th>\n",
       "      <td>492142357</td>\n",
       "      <td>04/13/2016</td>\n",
       "      <td>00:00:00</td>\n",
       "      <td>NaN</td>\n",
       "      <td>NaN</td>\n",
       "      <td>40.0</td>\n",
       "      <td>04/13/2016</td>\n",
       "      <td>351</td>\n",
       "      <td>CRIMINAL MISCHIEF &amp; RELATED OF</td>\n",
       "      <td>258.0</td>\n",
       "      <td>...</td>\n",
       "      <td>40.810352</td>\n",
       "      <td>-73.924942</td>\n",
       "      <td>PATROL BORO BRONX</td>\n",
       "      <td>UNKNOWN</td>\n",
       "      <td>UNKNOWN</td>\n",
       "      <td>E</td>\n",
       "      <td>0</td>\n",
       "      <td>0</td>\n",
       "      <td>0</td>\n",
       "      <td>0</td>\n",
       "    </tr>\n",
       "    <tr>\n",
       "      <th>...</th>\n",
       "      <td>...</td>\n",
       "      <td>...</td>\n",
       "      <td>...</td>\n",
       "      <td>...</td>\n",
       "      <td>...</td>\n",
       "      <td>...</td>\n",
       "      <td>...</td>\n",
       "      <td>...</td>\n",
       "      <td>...</td>\n",
       "      <td>...</td>\n",
       "      <td>...</td>\n",
       "      <td>...</td>\n",
       "      <td>...</td>\n",
       "      <td>...</td>\n",
       "      <td>...</td>\n",
       "      <td>...</td>\n",
       "      <td>...</td>\n",
       "      <td>...</td>\n",
       "      <td>...</td>\n",
       "      <td>...</td>\n",
       "      <td>...</td>\n",
       "    </tr>\n",
       "    <tr>\n",
       "      <th>6983199</th>\n",
       "      <td>120248300</td>\n",
       "      <td>09/11/2018</td>\n",
       "      <td>22:30:00</td>\n",
       "      <td>09/11/2018</td>\n",
       "      <td>22:48:00</td>\n",
       "      <td>110.0</td>\n",
       "      <td>09/11/2018</td>\n",
       "      <td>111</td>\n",
       "      <td>POSSESSION OF STOLEN PROPERTY</td>\n",
       "      <td>494.0</td>\n",
       "      <td>...</td>\n",
       "      <td>40.741889</td>\n",
       "      <td>-73.859886</td>\n",
       "      <td>PATROL BORO QUEENS NORTH</td>\n",
       "      <td>UNKNOWN</td>\n",
       "      <td>UNKNOWN</td>\n",
       "      <td>E</td>\n",
       "      <td>0</td>\n",
       "      <td>0</td>\n",
       "      <td>0</td>\n",
       "      <td>0</td>\n",
       "    </tr>\n",
       "    <tr>\n",
       "      <th>6983200</th>\n",
       "      <td>180596560</td>\n",
       "      <td>01/15/2018</td>\n",
       "      <td>14:23:00</td>\n",
       "      <td>01/15/2018</td>\n",
       "      <td>14:23:00</td>\n",
       "      <td>47.0</td>\n",
       "      <td>01/15/2018</td>\n",
       "      <td>341</td>\n",
       "      <td>PETIT LARCENY</td>\n",
       "      <td>338.0</td>\n",
       "      <td>...</td>\n",
       "      <td>40.878054</td>\n",
       "      <td>-73.863244</td>\n",
       "      <td>PATROL BORO BRONX</td>\n",
       "      <td>45-64</td>\n",
       "      <td>BLACK</td>\n",
       "      <td>F</td>\n",
       "      <td>0</td>\n",
       "      <td>0</td>\n",
       "      <td>0</td>\n",
       "      <td>0</td>\n",
       "    </tr>\n",
       "    <tr>\n",
       "      <th>6983201</th>\n",
       "      <td>142216265</td>\n",
       "      <td>08/07/2018</td>\n",
       "      <td>14:42:00</td>\n",
       "      <td>08/07/2018</td>\n",
       "      <td>14:44:00</td>\n",
       "      <td>78.0</td>\n",
       "      <td>08/07/2018</td>\n",
       "      <td>344</td>\n",
       "      <td>ASSAULT 3 &amp; RELATED OFFENSES</td>\n",
       "      <td>101.0</td>\n",
       "      <td>...</td>\n",
       "      <td>40.672202</td>\n",
       "      <td>-73.983786</td>\n",
       "      <td>PATROL BORO BKLYN SOUTH</td>\n",
       "      <td>18-24</td>\n",
       "      <td>BLACK</td>\n",
       "      <td>M</td>\n",
       "      <td>0</td>\n",
       "      <td>0</td>\n",
       "      <td>1</td>\n",
       "      <td>0</td>\n",
       "    </tr>\n",
       "    <tr>\n",
       "      <th>6983202</th>\n",
       "      <td>225471008</td>\n",
       "      <td>12/02/2018</td>\n",
       "      <td>04:15:00</td>\n",
       "      <td>12/02/2018</td>\n",
       "      <td>04:17:00</td>\n",
       "      <td>109.0</td>\n",
       "      <td>12/02/2018</td>\n",
       "      <td>344</td>\n",
       "      <td>ASSAULT 3 &amp; RELATED OFFENSES</td>\n",
       "      <td>101.0</td>\n",
       "      <td>...</td>\n",
       "      <td>40.785050</td>\n",
       "      <td>-73.856852</td>\n",
       "      <td>PATROL BORO QUEENS NORTH</td>\n",
       "      <td>25-44</td>\n",
       "      <td>ASIAN / PACIFIC ISLANDER</td>\n",
       "      <td>F</td>\n",
       "      <td>0</td>\n",
       "      <td>0</td>\n",
       "      <td>0</td>\n",
       "      <td>0</td>\n",
       "    </tr>\n",
       "    <tr>\n",
       "      <th>6983204</th>\n",
       "      <td>146134182</td>\n",
       "      <td>08/03/2018</td>\n",
       "      <td>22:30:00</td>\n",
       "      <td>08/04/2018</td>\n",
       "      <td>06:30:00</td>\n",
       "      <td>41.0</td>\n",
       "      <td>08/04/2018</td>\n",
       "      <td>121</td>\n",
       "      <td>CRIMINAL MISCHIEF &amp; RELATED OF</td>\n",
       "      <td>267.0</td>\n",
       "      <td>...</td>\n",
       "      <td>40.814612</td>\n",
       "      <td>-73.903637</td>\n",
       "      <td>PATROL BORO BRONX</td>\n",
       "      <td>25-44</td>\n",
       "      <td>BLACK HISPANIC</td>\n",
       "      <td>F</td>\n",
       "      <td>0</td>\n",
       "      <td>0</td>\n",
       "      <td>0</td>\n",
       "      <td>0</td>\n",
       "    </tr>\n",
       "  </tbody>\n",
       "</table>\n",
       "<p>6959143 rows × 32 columns</p>\n",
       "</div>"
      ],
      "text/plain": [
       "         Complaint_ID  Start_Date Start_Time    End_Date  End_Time  Precinct  \\\n",
       "0           700381962  05/28/2015   15:00:00         NaN       NaN      46.0   \n",
       "1           642234217  10/28/2013   13:50:00  10/28/2013  13:50:00     120.0   \n",
       "2           242465164  05/09/2012   20:50:00  05/09/2012  21:00:00      24.0   \n",
       "3           927207428  01/03/2014   13:30:00  01/03/2014  13:35:00     108.0   \n",
       "4           492142357  04/13/2016   00:00:00         NaN       NaN      40.0   \n",
       "...               ...         ...        ...         ...       ...       ...   \n",
       "6983199     120248300  09/11/2018   22:30:00  09/11/2018  22:48:00     110.0   \n",
       "6983200     180596560  01/15/2018   14:23:00  01/15/2018  14:23:00      47.0   \n",
       "6983201     142216265  08/07/2018   14:42:00  08/07/2018  14:44:00      78.0   \n",
       "6983202     225471008  12/02/2018   04:15:00  12/02/2018  04:17:00     109.0   \n",
       "6983204     146134182  08/03/2018   22:30:00  08/04/2018  06:30:00      41.0   \n",
       "\n",
       "        Report_Date  Offense_Code             Offense_Description  \\\n",
       "0        06/01/2015           578                   HARRASSMENT 2   \n",
       "1        10/28/2013           351  CRIMINAL MISCHIEF & RELATED OF   \n",
       "2        05/09/2012           236               DANGEROUS WEAPONS   \n",
       "3        01/03/2014           109                   GRAND LARCENY   \n",
       "4        04/13/2016           351  CRIMINAL MISCHIEF & RELATED OF   \n",
       "...             ...           ...                             ...   \n",
       "6983199  09/11/2018           111   POSSESSION OF STOLEN PROPERTY   \n",
       "6983200  01/15/2018           341                   PETIT LARCENY   \n",
       "6983201  08/07/2018           344    ASSAULT 3 & RELATED OFFENSES   \n",
       "6983202  12/02/2018           344    ASSAULT 3 & RELATED OFFENSES   \n",
       "6983204  08/04/2018           121  CRIMINAL MISCHIEF & RELATED OF   \n",
       "\n",
       "         Precinct_Code  ...        Lat        Lon             Patrol_Borough  \\\n",
       "0                638.0  ...  40.845868 -73.915888          PATROL BORO BRONX   \n",
       "1                259.0  ...  40.627061 -74.077149  PATROL BORO STATEN ISLAND   \n",
       "2                782.0  ...  40.800966 -73.969047      PATROL BORO MAN NORTH   \n",
       "3                409.0  ...  40.745242 -73.894253   PATROL BORO QUEENS NORTH   \n",
       "4                258.0  ...  40.810352 -73.924942          PATROL BORO BRONX   \n",
       "...                ...  ...        ...        ...                        ...   \n",
       "6983199          494.0  ...  40.741889 -73.859886   PATROL BORO QUEENS NORTH   \n",
       "6983200          338.0  ...  40.878054 -73.863244          PATROL BORO BRONX   \n",
       "6983201          101.0  ...  40.672202 -73.983786    PATROL BORO BKLYN SOUTH   \n",
       "6983202          101.0  ...  40.785050 -73.856852   PATROL BORO QUEENS NORTH   \n",
       "6983204          267.0  ...  40.814612 -73.903637          PATROL BORO BRONX   \n",
       "\n",
       "        Victim_Age               Victim_Race Victim_Gender in_psa  \\\n",
       "0            25-44            WHITE HISPANIC             F      0   \n",
       "1            45-64                     WHITE             M      0   \n",
       "2              NaN                   UNKNOWN             E      0   \n",
       "3            45-64  ASIAN / PACIFIC ISLANDER             M      0   \n",
       "4          UNKNOWN                   UNKNOWN             E      0   \n",
       "...            ...                       ...           ...    ...   \n",
       "6983199    UNKNOWN                   UNKNOWN             E      0   \n",
       "6983200      45-64                     BLACK             F      0   \n",
       "6983201      18-24                     BLACK             M      0   \n",
       "6983202      25-44  ASIAN / PACIFIC ISLANDER             F      0   \n",
       "6983204      25-44            BLACK HISPANIC             F      0   \n",
       "\n",
       "         in_psa_housing in_park in_transport  \n",
       "0                     0       0            0  \n",
       "1                     0       0            0  \n",
       "2                     0       0            0  \n",
       "3                     0       0            0  \n",
       "4                     0       0            0  \n",
       "...                 ...     ...          ...  \n",
       "6983199               0       0            0  \n",
       "6983200               0       0            0  \n",
       "6983201               0       1            0  \n",
       "6983202               0       0            0  \n",
       "6983204               0       0            0  \n",
       "\n",
       "[6959143 rows x 32 columns]"
      ]
     },
     "execution_count": 45,
     "metadata": {},
     "output_type": "execute_result"
    }
   ],
   "source": [
    "df"
   ]
  },
  {
   "cell_type": "code",
   "execution_count": 50,
   "metadata": {},
   "outputs": [],
   "source": [
    "df['Start_Datetime'] = pd.to_datetime(\n",
    "    df['Start_Date'] + ' ' + df['Start_Time'], \n",
    "    format=\"%m/%d/%Y %H:%M:%S\", \n",
    "    errors='coerce'  # Handle invalid dates gracefully\n",
    ")\n",
    "df['End_Datetime'] = pd.to_datetime(\n",
    "    df['End_Date'] + ' ' + df['End_Time'], \n",
    "    format=\"%m/%d/%Y %H:%M:%S\", \n",
    "    errors='coerce'\n",
    ")"
   ]
  },
  {
   "cell_type": "code",
   "execution_count": null,
   "metadata": {},
   "outputs": [
    {
     "name": "stdout",
     "output_type": "stream",
     "text": [
      "Maximum gap in hours: 959050.0\n"
     ]
    }
   ],
   "source": [
    "df['Duration_Hours'] = (df['End_Datetime'] - df['Start_Datetime']).dt.total_seconds() / 3600\n",
    "\n",
    "df['Is_Multi_Day'] = df['Duration_Hours'] > 24\n",
    "\n",
    "max_gap = df['Duration_Hours'].max()\n",
    "\n",
    "print(f\"Maximum gap in hours: {max_gap}\")"
   ]
  },
  {
   "cell_type": "code",
   "execution_count": 52,
   "metadata": {},
   "outputs": [
    {
     "data": {
      "text/plain": [
       "Is_Multi_Day\n",
       "False    6381164\n",
       "True      577979\n",
       "Name: count, dtype: int64"
      ]
     },
     "execution_count": 52,
     "metadata": {},
     "output_type": "execute_result"
    }
   ],
   "source": [
    "df['Is_Multi_Day'].value_counts()"
   ]
  },
  {
   "cell_type": "code",
   "execution_count": 54,
   "metadata": {},
   "outputs": [],
   "source": [
    "df.drop(columns=[ 'Start_Date', 'Start_Time', 'End_Date', 'End_Time'],inplace=True)"
   ]
  },
  {
   "cell_type": "code",
   "execution_count": 78,
   "metadata": {},
   "outputs": [],
   "source": [
    "df=df[df['Start_Datetime'].notna()]"
   ]
  },
  {
   "cell_type": "code",
   "execution_count": 79,
   "metadata": {},
   "outputs": [
    {
     "name": "stderr",
     "output_type": "stream",
     "text": [
      "C:\\Users\\amenm\\AppData\\Local\\Temp\\ipykernel_28976\\435837282.py:1: SettingWithCopyWarning: \n",
      "A value is trying to be set on a copy of a slice from a DataFrame.\n",
      "Try using .loc[row_indexer,col_indexer] = value instead\n",
      "\n",
      "See the caveats in the documentation: https://pandas.pydata.org/pandas-docs/stable/user_guide/indexing.html#returning-a-view-versus-a-copy\n",
      "  df['Year'] = df['Start_Datetime'].dt.year\n",
      "C:\\Users\\amenm\\AppData\\Local\\Temp\\ipykernel_28976\\435837282.py:2: SettingWithCopyWarning: \n",
      "A value is trying to be set on a copy of a slice from a DataFrame.\n",
      "Try using .loc[row_indexer,col_indexer] = value instead\n",
      "\n",
      "See the caveats in the documentation: https://pandas.pydata.org/pandas-docs/stable/user_guide/indexing.html#returning-a-view-versus-a-copy\n",
      "  df['Month'] = df['Start_Datetime'].dt.month\n",
      "C:\\Users\\amenm\\AppData\\Local\\Temp\\ipykernel_28976\\435837282.py:3: SettingWithCopyWarning: \n",
      "A value is trying to be set on a copy of a slice from a DataFrame.\n",
      "Try using .loc[row_indexer,col_indexer] = value instead\n",
      "\n",
      "See the caveats in the documentation: https://pandas.pydata.org/pandas-docs/stable/user_guide/indexing.html#returning-a-view-versus-a-copy\n",
      "  df['Day'] = df['Start_Datetime'].dt.day\n",
      "C:\\Users\\amenm\\AppData\\Local\\Temp\\ipykernel_28976\\435837282.py:4: SettingWithCopyWarning: \n",
      "A value is trying to be set on a copy of a slice from a DataFrame.\n",
      "Try using .loc[row_indexer,col_indexer] = value instead\n",
      "\n",
      "See the caveats in the documentation: https://pandas.pydata.org/pandas-docs/stable/user_guide/indexing.html#returning-a-view-versus-a-copy\n",
      "  df['DayOfWeek'] = df['Start_Datetime'].dt.dayofweek\n",
      "C:\\Users\\amenm\\AppData\\Local\\Temp\\ipykernel_28976\\435837282.py:5: SettingWithCopyWarning: \n",
      "A value is trying to be set on a copy of a slice from a DataFrame.\n",
      "Try using .loc[row_indexer,col_indexer] = value instead\n",
      "\n",
      "See the caveats in the documentation: https://pandas.pydata.org/pandas-docs/stable/user_guide/indexing.html#returning-a-view-versus-a-copy\n",
      "  df['Hour'] = df['Start_Datetime'].dt.hour\n",
      "C:\\Users\\amenm\\AppData\\Local\\Temp\\ipykernel_28976\\435837282.py:6: SettingWithCopyWarning: \n",
      "A value is trying to be set on a copy of a slice from a DataFrame.\n",
      "Try using .loc[row_indexer,col_indexer] = value instead\n",
      "\n",
      "See the caveats in the documentation: https://pandas.pydata.org/pandas-docs/stable/user_guide/indexing.html#returning-a-view-versus-a-copy\n",
      "  df['Is_Weekend'] = df['Start_Datetime'].dt.dayofweek >= 5\n"
     ]
    }
   ],
   "source": [
    "df['Year'] = df['Start_Datetime'].dt.year\n",
    "df['Month'] = df['Start_Datetime'].dt.month\n",
    "df['Day'] = df['Start_Datetime'].dt.day\n",
    "df['DayOfWeek'] = df['Start_Datetime'].dt.dayofweek\n",
    "df['Hour'] = df['Start_Datetime'].dt.hour\n",
    "df['Is_Weekend'] = df['Start_Datetime'].dt.dayofweek >= 5"
   ]
  },
  {
   "cell_type": "code",
   "execution_count": 57,
   "metadata": {},
   "outputs": [
    {
     "data": {
      "text/plain": [
       "Index(['Complaint_ID', 'Precinct', 'Report_Date', 'Offense_Code',\n",
       "       'Offense_Description', 'Precinct_Code', 'Precinct_Description',\n",
       "       'Crime_Status', 'Offense_Level', 'Borough', 'Location_Type',\n",
       "       'Premises_Type', 'Jurisdiction', 'JURISDICTION_CODE', 'Park_Name',\n",
       "       'Suspect_Age', 'Suspect_Race', 'Suspect_Gender', 'Lat', 'Lon',\n",
       "       'Patrol_Borough', 'Victim_Age', 'Victim_Race', 'Victim_Gender',\n",
       "       'in_psa', 'in_psa_housing', 'in_park', 'in_transport', 'Start_Datetime',\n",
       "       'End_Datetime', 'Duration_Hours', 'Is_Multi_Day', 'Year', 'Month',\n",
       "       'Day', 'DayOfWeek', 'Hour', 'Is_Weekend'],\n",
       "      dtype='object')"
      ]
     },
     "execution_count": 57,
     "metadata": {},
     "output_type": "execute_result"
    }
   ],
   "source": [
    "df.columns"
   ]
  },
  {
   "cell_type": "code",
   "execution_count": 63,
   "metadata": {},
   "outputs": [
    {
     "data": {
      "text/plain": [
       "Precinct\n",
       " 75.0     224127\n",
       " 43.0     180064\n",
       " 44.0     174600\n",
       " 40.0     167678\n",
       " 14.0     160003\n",
       "           ...  \n",
       " 121.0     41911\n",
       " 76.0      39101\n",
       " 100.0     36685\n",
       " 22.0       5517\n",
       "-99.0        750\n",
       "Name: count, Length: 78, dtype: int64"
      ]
     },
     "execution_count": 63,
     "metadata": {},
     "output_type": "execute_result"
    }
   ],
   "source": [
    "df['Precinct'].value_counts()"
   ]
  },
  {
   "cell_type": "code",
   "execution_count": 68,
   "metadata": {},
   "outputs": [
    {
     "data": {
      "text/plain": [
       "750"
      ]
     },
     "execution_count": 68,
     "metadata": {},
     "output_type": "execute_result"
    }
   ],
   "source": [
    "negative_precincts = df[df['Precinct'] < 0]\n",
    "len(negative_precincts)\n"
   ]
  },
  {
   "cell_type": "markdown",
   "metadata": {},
   "source": [
    "so it is a misstype "
   ]
  },
  {
   "cell_type": "code",
   "execution_count": 69,
   "metadata": {},
   "outputs": [],
   "source": [
    "df['Precinct'] = df['Precinct'].abs()"
   ]
  },
  {
   "cell_type": "code",
   "execution_count": 73,
   "metadata": {},
   "outputs": [
    {
     "name": "stdout",
     "output_type": "stream",
     "text": [
      "Complaint_ID have  0.0  % missing values\n",
      "Precinct have  0.019097179063571477  % missing values\n",
      "Report_Date have  0.0  % missing values\n",
      "Offense_Code have  0.0  % missing values\n",
      "Offense_Description have  0.26881183502049033  % missing values\n",
      "Precinct_Code have  0.07748080474851574  % missing values\n",
      "Precinct_Description have  0.07748080474851574  % missing values\n",
      "Crime_Status have  0.00010058709815274668  % missing values\n",
      "Offense_Level have  0.0  % missing values\n",
      "Borough have  0.14971671080763824  % missing values\n",
      "Location_Type have  21.203142398424635  % missing values\n",
      "Premises_Type have  0.5557149781230246  % missing values\n",
      "Jurisdiction have  0.0  % missing values\n",
      "JURISDICTION_CODE have  0.07748080474851574  % missing values\n",
      "Suspect_Age have  67.40578545375486  % missing values\n",
      "Suspect_Race have  47.79703477856397  % missing values\n",
      "Suspect_Gender have  49.700889894057354  % missing values\n",
      "Lat have  0.0  % missing values\n",
      "Lon have  0.0  % missing values\n",
      "Patrol_Borough have  0.07860163241364633  % missing values\n",
      "Victim_Age have  23.472789681143208  % missing values\n",
      "Victim_Race have  0.004425832318720854  % missing values\n",
      "Victim_Gender have  0.004411462733270461  % missing values\n",
      "in_psa have  0.0  % missing values\n",
      "in_psa_housing have  0.0  % missing values\n",
      "in_park have  0.0  % missing values\n",
      "in_transport have  0.0  % missing values\n",
      "Start_Datetime have  0.012012973436528032  % missing values\n",
      "End_Datetime have  23.89755462705681  % missing values\n",
      "Duration_Hours have  23.90675116174506  % missing values\n",
      "Is_Multi_Day have  0.0  % missing values\n",
      "Year have  0.012012973436528032  % missing values\n",
      "Month have  0.012012973436528032  % missing values\n",
      "Day have  0.012012973436528032  % missing values\n",
      "DayOfWeek have  0.012012973436528032  % missing values\n",
      "Hour have  0.012012973436528032  % missing values\n",
      "Is_Weekend have  0.0  % missing values\n"
     ]
    }
   ],
   "source": [
    "for column in df.columns:\n",
    "    print(column,'have ',(df[column].isna().sum()*100/len(df)),' % missing values')\n",
    "    "
   ]
  },
  {
   "cell_type": "code",
   "execution_count": 104,
   "metadata": {},
   "outputs": [
    {
     "data": {
      "text/plain": [
       "Offense_Description\n",
       "PETIT LARCENY                      1161705\n",
       "HARRASSMENT 2                       877795\n",
       "ASSAULT 3 & RELATED OFFENSES        729340\n",
       "CRIMINAL MISCHIEF & RELATED OF      697029\n",
       "GRAND LARCENY                       604780\n",
       "                                    ...   \n",
       "FELONY SEX CRIMES                       10\n",
       "ABORTION                                 7\n",
       "OFFENSES AGAINST MARRIAGE UNCL           4\n",
       "KIDNAPPING AND RELATED OFFENSES          3\n",
       "UNDER THE INFLUENCE OF DRUGS             3\n",
       "Name: count, Length: 71, dtype: int64"
      ]
     },
     "execution_count": 104,
     "metadata": {},
     "output_type": "execute_result"
    }
   ],
   "source": [
    "df['Offense_Description'].value_counts()"
   ]
  },
  {
   "cell_type": "code",
   "execution_count": 112,
   "metadata": {},
   "outputs": [],
   "source": [
    "prop = ['BURGLARY', 'PETIT LARCENY', 'GRAND LARCENY', 'ROBBERY', 'THEFT-FRAUD', \n",
    "        'GRAND LARCENY OF MOTOR VEHICLE', 'FORGERY', 'JOSTLING', 'ARSON',\n",
    "        'PETIT LARCENY OF MOTOR VEHICLE', 'OTHER OFFENSES RELATED TO THEF',\n",
    "        \"BURGLAR'S TOOLS\", 'FRAUDS', 'POSSESSION OF STOLEN PROPERTY',\n",
    "        'CRIMINAL MISCHIEF & RELATED OF', 'OFFENSES INVOLVING FRAUD',\n",
    "        'FRAUDULENT ACCOSTING', 'THEFT OF SERVICES']\n",
    "\n",
    "sexual = ['SEX CRIMES', 'HARRASSMENT 2', 'RAPE', 'PROSTITUTION & RELATED OFFENSES',\n",
    "          'FELONY SEX CRIMES', 'LOITERING/DEVIATE SEX']\n",
    "\n",
    "drug_alch = ['DANGEROUS DRUGS', 'INTOXICATED & IMPAIRED DRIVING',\n",
    "             'ALCOHOLIC BEVERAGE CONTROL LAW', 'INTOXICATED/IMPAIRED DRIVING',\n",
    "             'UNDER THE INFLUENCE OF DRUGS', 'LOITERING FOR DRUG PURPOSES']\n",
    "\n",
    "personal = ['ASSAULT 3 & RELATED OFFENSES', 'FELONY ASSAULT',\n",
    "            'OFFENSES AGAINST THE PERSON', 'HOMICIDE-NEGLIGENT,UNCLASSIFIE',\n",
    "            'HOMICIDE-NEGLIGENT-VEHICLE', 'KIDNAPPING & RELATED OFFENSES',\n",
    "            'ENDAN WELFARE INCOMP', 'OFFENSES RELATED TO CHILDREN',\n",
    "            'CHILD ABANDONMENT/NON SUPPORT', 'KIDNAPPING', 'DANGEROUS WEAPONS',\n",
    "            'UNLAWFUL POSS. WEAP. ON SCHOOL']\n",
    "\n",
    "admin = ['OFF. AGNST PUB ORD SENSBLTY &', 'CRIMINAL TRESPASS', \n",
    "         'VEHICLE AND TRAFFIC LAWS', 'OFFENSES AGAINST PUBLIC ADMINI',\n",
    "         'ADMINISTRATIVE CODE', 'OFFENSES AGAINST PUBLIC SAFETY',\n",
    "         'LOITERING/GAMBLING (CARDS, DIC', 'DISORDERLY CONDUCT',\n",
    "         'NEW YORK CITY HEALTH CODE', 'DISRUPTION OF A RELIGIOUS SERV',\n",
    "         'LOITERING', 'ADMINISTRATIVE CODES']\n",
    "\n",
    "other = ['MISCELLANEOUS PENAL LAW', 'OFFENSES AGAINST MARRIAGE UNCL',\n",
    "         'OTHER STATE LAWS (NON PENAL LAW)', 'FORTUNE TELLING',\n",
    "         'NYS LAWS-UNCLASSIFIED VIOLATION', 'LOITERING/GAMBLING (CARDS, DIC',\n",
    "         'GAMBLING', 'OTHER STATE LAWS (NON PENAL LA', 'OTHER STATE LAWS',\n",
    "         'ANTICIPATORY OFFENSES', 'ESCAPE 3', 'AGRICULTURE & MRKTS LAW-UNCLASSIFIED',\n",
    "         'NYS LAWS-UNCLASSIFIED FELONY', 'UNAUTHORIZED USE OF A VEHICLE', 'OTHER']"
   ]
  },
  {
   "cell_type": "code",
   "execution_count": 113,
   "metadata": {},
   "outputs": [
    {
     "name": "stderr",
     "output_type": "stream",
     "text": [
      "C:\\Users\\amenm\\AppData\\Local\\Temp\\ipykernel_28976\\1460797985.py:9: SettingWithCopyWarning: \n",
      "A value is trying to be set on a copy of a slice from a DataFrame.\n",
      "Try using .loc[row_indexer,col_indexer] = value instead\n",
      "\n",
      "See the caveats in the documentation: https://pandas.pydata.org/pandas-docs/stable/user_guide/indexing.html#returning-a-view-versus-a-copy\n",
      "  df['Offense_Description'] = np.select(conditions, categories, default='OTHER')\n"
     ]
    }
   ],
   "source": [
    "conditions = [\n",
    "    df['Offense_Description'].isin(prop),\n",
    "    df['Offense_Description'].isin(sexual),\n",
    "    df['Offense_Description'].isin(drug_alch),\n",
    "    df['Offense_Description'].isin(personal),\n",
    "    df['Offense_Description'].isin(admin)\n",
    "]\n",
    "categories = ['PROPERTY', 'SEXUAL', 'DRUGS/ALCOHOL', 'PERSONAL', 'ADMINISTRATIVE']\n",
    "df['Offense_Description'] = np.select(conditions, categories, default='OTHER')"
   ]
  },
  {
   "cell_type": "code",
   "execution_count": 99,
   "metadata": {},
   "outputs": [
    {
     "data": {
      "text/plain": [
       "Patrol_Borough\n",
       "PATROL BORO BRONX            1509088\n",
       "PATROL BORO BKLYN SOUTH      1036404\n",
       "PATROL BORO BKLYN NORTH      1031278\n",
       "PATROL BORO MAN SOUTH         845711\n",
       "PATROL BORO MAN NORTH         827400\n",
       "PATROL BORO QUEENS NORTH      710728\n",
       "PATROL BORO QUEENS SOUTH      666286\n",
       "PATROL BORO STATEN ISLAND     325935\n",
       "Name: count, dtype: int64"
      ]
     },
     "execution_count": 99,
     "metadata": {},
     "output_type": "execute_result"
    }
   ],
   "source": [
    "df['Patrol_Borough'].value_counts()"
   ]
  },
  {
   "cell_type": "code",
   "execution_count": 100,
   "metadata": {},
   "outputs": [
    {
     "name": "stderr",
     "output_type": "stream",
     "text": [
      "C:\\Users\\amenm\\AppData\\Local\\Temp\\ipykernel_28976\\301418187.py:1: SettingWithCopyWarning: \n",
      "A value is trying to be set on a copy of a slice from a DataFrame.\n",
      "Try using .loc[row_indexer,col_indexer] = value instead\n",
      "\n",
      "See the caveats in the documentation: https://pandas.pydata.org/pandas-docs/stable/user_guide/indexing.html#returning-a-view-versus-a-copy\n",
      "  df['Patrol_Borough'] = df['Patrol_Borough'].fillna(\"Unknown\")\n"
     ]
    }
   ],
   "source": [
    "df['Patrol_Borough'] = df['Patrol_Borough'].fillna(\"Unknown\")"
   ]
  },
  {
   "cell_type": "code",
   "execution_count": 89,
   "metadata": {},
   "outputs": [
    {
     "name": "stderr",
     "output_type": "stream",
     "text": [
      "C:\\Users\\amenm\\AppData\\Local\\Temp\\ipykernel_28976\\327469749.py:1: SettingWithCopyWarning: \n",
      "A value is trying to be set on a copy of a slice from a DataFrame.\n",
      "Try using .loc[row_indexer,col_indexer] = value instead\n",
      "\n",
      "See the caveats in the documentation: https://pandas.pydata.org/pandas-docs/stable/user_guide/indexing.html#returning-a-view-versus-a-copy\n",
      "  df['Borough'] = df['Borough'].fillna(\"Unknown\")\n",
      "C:\\Users\\amenm\\AppData\\Local\\Temp\\ipykernel_28976\\327469749.py:2: SettingWithCopyWarning: \n",
      "A value is trying to be set on a copy of a slice from a DataFrame.\n",
      "Try using .loc[row_indexer,col_indexer] = value instead\n",
      "\n",
      "See the caveats in the documentation: https://pandas.pydata.org/pandas-docs/stable/user_guide/indexing.html#returning-a-view-versus-a-copy\n",
      "  df['Precinct'] = df['Precinct'].fillna(0)\n"
     ]
    }
   ],
   "source": [
    "df['Borough'] = df['Borough'].fillna(\"Unknown\")\n",
    "df['Precinct'] = df['Precinct'].fillna(0)\n"
   ]
  },
  {
   "cell_type": "code",
   "execution_count": 93,
   "metadata": {},
   "outputs": [],
   "source": [
    "df= df.dropna(subset=['Crime_Status'])"
   ]
  },
  {
   "cell_type": "code",
   "execution_count": 108,
   "metadata": {},
   "outputs": [
    {
     "name": "stderr",
     "output_type": "stream",
     "text": [
      "C:\\Users\\amenm\\AppData\\Local\\Temp\\ipykernel_28976\\759708410.py:1: SettingWithCopyWarning: \n",
      "A value is trying to be set on a copy of a slice from a DataFrame\n",
      "\n",
      "See the caveats in the documentation: https://pandas.pydata.org/pandas-docs/stable/user_guide/indexing.html#returning-a-view-versus-a-copy\n",
      "  df.fillna({'Location_Type':'UNKNOWN'}, inplace=True)\n"
     ]
    }
   ],
   "source": [
    "df.fillna({'Location_Type':'UNKNOWN'}, inplace=True)"
   ]
  },
  {
   "cell_type": "code",
   "execution_count": null,
   "metadata": {},
   "outputs": [
    {
     "name": "stdout",
     "output_type": "stream",
     "text": [
      "Precinct_Code            0.077490\n",
      "Precinct_Description     0.077490\n",
      "Premises_Type            0.555754\n",
      "JURISDICTION_CODE        0.077490\n",
      "Suspect_Age             67.404582\n",
      "Suspect_Race            47.797177\n",
      "Suspect_Gender          49.700502\n",
      "Victim_Age              23.473866\n",
      "Victim_Race              0.004426\n",
      "Victim_Gender            0.004412\n",
      "End_Datetime            23.897604\n",
      "Duration_Hours          23.897604\n",
      "dtype: float64\n"
     ]
    }
   ],
   "source": []
  },
  {
   "cell_type": "code",
   "execution_count": 118,
   "metadata": {},
   "outputs": [],
   "source": [
    "valid_age = ['UNKNOWN', '25-44', '<18', '45-64', '65+', '18-24']\n",
    "df.loc[~df['Suspect_Age'].isin(valid_age),'Suspect_Age'] = 'UNKNOWN'\n",
    "df.loc[~df['Victim_Age'].isin(valid_age),'Victim_Age'] = 'UNKNOWN'"
   ]
  },
  {
   "cell_type": "code",
   "execution_count": null,
   "metadata": {},
   "outputs": [
    {
     "name": "stdout",
     "output_type": "stream",
     "text": [
      "Precinct_Code            0.077490\n",
      "Precinct_Description     0.077490\n",
      "Premises_Type            0.555754\n",
      "JURISDICTION_CODE        0.077490\n",
      "Suspect_Race            47.797177\n",
      "Suspect_Gender          49.700502\n",
      "Victim_Race              0.004426\n",
      "Victim_Gender            0.004412\n",
      "End_Datetime            23.897604\n",
      "Duration_Hours          23.897604\n",
      "dtype: float64\n"
     ]
    }
   ],
   "source": []
  },
  {
   "cell_type": "code",
   "execution_count": 121,
   "metadata": {},
   "outputs": [
    {
     "name": "stderr",
     "output_type": "stream",
     "text": [
      "C:\\Users\\amenm\\AppData\\Local\\Temp\\ipykernel_28976\\2868905823.py:1: SettingWithCopyWarning: \n",
      "A value is trying to be set on a copy of a slice from a DataFrame.\n",
      "Try using .loc[row_indexer,col_indexer] = value instead\n",
      "\n",
      "See the caveats in the documentation: https://pandas.pydata.org/pandas-docs/stable/user_guide/indexing.html#returning-a-view-versus-a-copy\n",
      "  df['Suspect_Race'] = df['Suspect_Race'].fillna('UNKNOWN')\n",
      "C:\\Users\\amenm\\AppData\\Local\\Temp\\ipykernel_28976\\2868905823.py:2: SettingWithCopyWarning: \n",
      "A value is trying to be set on a copy of a slice from a DataFrame.\n",
      "Try using .loc[row_indexer,col_indexer] = value instead\n",
      "\n",
      "See the caveats in the documentation: https://pandas.pydata.org/pandas-docs/stable/user_guide/indexing.html#returning-a-view-versus-a-copy\n",
      "  df['Victim_Race'] = df['Victim_Race'].fillna('UNKNOWN')\n",
      "C:\\Users\\amenm\\AppData\\Local\\Temp\\ipykernel_28976\\2868905823.py:4: SettingWithCopyWarning: \n",
      "A value is trying to be set on a copy of a slice from a DataFrame.\n",
      "Try using .loc[row_indexer,col_indexer] = value instead\n",
      "\n",
      "See the caveats in the documentation: https://pandas.pydata.org/pandas-docs/stable/user_guide/indexing.html#returning-a-view-versus-a-copy\n",
      "  df['Suspect_Gender'] = df['Suspect_Gender'].fillna('U')\n",
      "C:\\Users\\amenm\\AppData\\Local\\Temp\\ipykernel_28976\\2868905823.py:5: SettingWithCopyWarning: \n",
      "A value is trying to be set on a copy of a slice from a DataFrame.\n",
      "Try using .loc[row_indexer,col_indexer] = value instead\n",
      "\n",
      "See the caveats in the documentation: https://pandas.pydata.org/pandas-docs/stable/user_guide/indexing.html#returning-a-view-versus-a-copy\n",
      "  df['Victim_Gender'] = df['Victim_Gender'].fillna('U')\n"
     ]
    }
   ],
   "source": [
    "df['Suspect_Race'] = df['Suspect_Race'].fillna('UNKNOWN')\n",
    "df['Victim_Race'] = df['Victim_Race'].fillna('UNKNOWN')\n",
    "\n",
    "df['Suspect_Gender'] = df['Suspect_Gender'].fillna('U')\n",
    "df['Victim_Gender'] = df['Victim_Gender'].fillna('U')"
   ]
  },
  {
   "cell_type": "code",
   "execution_count": 125,
   "metadata": {},
   "outputs": [
    {
     "name": "stderr",
     "output_type": "stream",
     "text": [
      "C:\\Users\\amenm\\AppData\\Local\\Temp\\ipykernel_28976\\1863811492.py:1: SettingWithCopyWarning: \n",
      "A value is trying to be set on a copy of a slice from a DataFrame.\n",
      "Try using .loc[row_indexer,col_indexer] = value instead\n",
      "\n",
      "See the caveats in the documentation: https://pandas.pydata.org/pandas-docs/stable/user_guide/indexing.html#returning-a-view-versus-a-copy\n",
      "  df['End_Datetime'] = df['End_Datetime'].fillna(df['Start_Datetime'])\n",
      "C:\\Users\\amenm\\AppData\\Local\\Temp\\ipykernel_28976\\1863811492.py:2: SettingWithCopyWarning: \n",
      "A value is trying to be set on a copy of a slice from a DataFrame.\n",
      "Try using .loc[row_indexer,col_indexer] = value instead\n",
      "\n",
      "See the caveats in the documentation: https://pandas.pydata.org/pandas-docs/stable/user_guide/indexing.html#returning-a-view-versus-a-copy\n",
      "  df['Duration_Hours'] = df['Duration_Hours'].fillna(0)\n"
     ]
    }
   ],
   "source": [
    "df['End_Datetime'] = df['End_Datetime'].fillna(df['Start_Datetime'])\n",
    "df['Duration_Hours'] = df['Duration_Hours'].fillna(0)\n"
   ]
  },
  {
   "cell_type": "code",
   "execution_count": 127,
   "metadata": {},
   "outputs": [
    {
     "name": "stderr",
     "output_type": "stream",
     "text": [
      "C:\\Users\\amenm\\AppData\\Local\\Temp\\ipykernel_28976\\1379821321.py:1: SettingWithCopyWarning: \n",
      "A value is trying to be set on a copy of a slice from a DataFrame\n",
      "\n",
      "See the caveats in the documentation: https://pandas.pydata.org/pandas-docs/stable/user_guide/indexing.html#returning-a-view-versus-a-copy\n",
      "  df.dropna(inplace=True)\n"
     ]
    }
   ],
   "source": [
    "df.dropna(inplace=True)"
   ]
  },
  {
   "cell_type": "code",
   "execution_count": 128,
   "metadata": {},
   "outputs": [
    {
     "data": {
      "text/plain": [
       "6919629"
      ]
     },
     "execution_count": 128,
     "metadata": {},
     "output_type": "execute_result"
    }
   ],
   "source": [
    "len(df)"
   ]
  },
  {
   "cell_type": "code",
   "execution_count": 136,
   "metadata": {},
   "outputs": [
    {
     "data": {
      "text/plain": [
       "Index(['Complaint_ID', 'Precinct', 'Report_Date', 'Offense_Code',\n",
       "       'Offense_Description', 'Precinct_Code', 'Precinct_Description',\n",
       "       'Crime_Status', 'Offense_Level', 'Borough', 'Location_Type',\n",
       "       'Premises_Type', 'Jurisdiction', 'JURISDICTION_CODE', 'Suspect_Age',\n",
       "       'Suspect_Race', 'Suspect_Gender', 'Lat', 'Lon', 'Patrol_Borough',\n",
       "       'Victim_Age', 'Victim_Race', 'Victim_Gender', 'in_psa',\n",
       "       'in_psa_housing', 'in_park', 'in_transport', 'Start_Datetime',\n",
       "       'End_Datetime', 'Duration_Hours', 'Is_Multi_Day', 'Year', 'Month',\n",
       "       'Day', 'DayOfWeek', 'Hour', 'Is_Weekend'],\n",
       "      dtype='object')"
      ]
     },
     "execution_count": 136,
     "metadata": {},
     "output_type": "execute_result"
    }
   ],
   "source": [
    "df.columns"
   ]
  },
  {
   "cell_type": "code",
   "execution_count": 139,
   "metadata": {},
   "outputs": [
    {
     "data": {
      "image/png": "[encoded data removed]",
      "text/plain": [
       "<Figure size 1200x600 with 2 Axes>"
      ]
     },
     "metadata": {},
     "output_type": "display_data"
    }
   ],
   "source": [
    "valid_age = ['UNKNOWN', '25-44', '<18', '45-64', '65+', '18-24']\n",
    "colors = ['#D3D3D3', '#87CEEB', '#FF9999', '#FFCC99', '#99CC99', '#9999FF']  # Define a color for each category\n",
    "\n",
    "# Ensure the same order and colors for both charts\n",
    "suspect_age_counts = df['Suspect_Age'].value_counts().reindex(valid_age, fill_value=0)\n",
    "victim_age_counts = df['Victim_Age'].value_counts().reindex(valid_age, fill_value=0)\n",
    "\n",
    "# Create a 1x2 grid for pie charts\n",
    "fig, axes = plt.subplots(1, 2, figsize=(12, 6))\n",
    "\n",
    "# Pie chart for Suspect_Age\n",
    "suspect_age_counts.plot.pie(\n",
    "    autopct='%1.1f%%',\n",
    "    startangle=90,\n",
    "    colors=colors,\n",
    "    ax=axes[0],\n",
    "    legend=False\n",
    ")\n",
    "axes[0].set_ylabel('')\n",
    "axes[0].set_title('Distribution of Suspect Age')\n",
    "\n",
    "# Pie chart for Victim_Age\n",
    "victim_age_counts.plot.pie(\n",
    "    autopct='%1.1f%%',\n",
    "    startangle=90,\n",
    "    colors=colors,\n",
    "    ax=axes[1],\n",
    "    legend=False\n",
    ")\n",
    "axes[1].set_ylabel('')\n",
    "axes[1].set_title('Distribution of Victim Age')\n",
    "\n",
    "# Adjust layout for better visibility\n",
    "plt.tight_layout()\n",
    "plt.show()"
   ]
  },
  {
   "cell_type": "code",
   "execution_count": null,
   "metadata": {},
   "outputs": [
    {
     "data": {
      "image/png": "[encoded data removed]",
      "text/plain": [
       "<Figure size 1200x600 with 2 Axes>"
      ]
     },
     "metadata": {},
     "output_type": "display_data"
    }
   ],
   "source": [
    "valid_age = ['25-44', '<18', '45-64', '65+', '18-24']\n",
    "colors = ['#87CEEB', '#FF9999', '#FFCC99', '#99CC99', '#9999FF']  \n",
    "\n",
    "suspect_age_counts = df['Suspect_Age'].value_counts().reindex(valid_age, fill_value=0)\n",
    "victim_age_counts = df['Victim_Age'].value_counts().reindex(valid_age, fill_value=0)\n",
    "\n",
    "fig, axes = plt.subplots(1, 2, figsize=(12, 6))\n",
    "\n",
    "suspect_age_counts.plot.pie(\n",
    "    autopct='%1.1f%%',\n",
    "    startangle=90,\n",
    "    colors=colors,\n",
    "    ax=axes[0],\n",
    "    legend=False\n",
    ")\n",
    "axes[0].set_ylabel('')\n",
    "axes[0].set_title('Distribution of Suspect Age (Excluding UNKNOWN)')\n",
    "\n",
    "victim_age_counts.plot.pie(\n",
    "    autopct='%1.1f%%',\n",
    "    startangle=90,\n",
    "    colors=colors,\n",
    "    ax=axes[1],\n",
    "    legend=False\n",
    ")\n",
    "axes[1].set_ylabel('')\n",
    "axes[1].set_title('Distribution of Victim Age (Excluding UNKNOWN)')\n",
    "\n",
    "plt.tight_layout()\n",
    "plt.show()"
   ]
  },
  {
   "cell_type": "code",
   "execution_count": null,
   "metadata": {},
   "outputs": [],
   "source": []
  }
 ],
 "metadata": {
  "kernelspec": {
   "display_name": "nyc",
   "language": "python",
   "name": "python3"
  },
  "language_info": {
   "codemirror_mode": {
    "name": "ipython",
    "version": 3
   },
   "file_extension": ".py",
   "mimetype": "text/x-python",
   "name": "python",
   "nbconvert_exporter": "python",
   "pygments_lexer": "ipython3",
   "version": "3.9.20"
  }
 },
 "nbformat": 4,
 "nbformat_minor": 2
}
